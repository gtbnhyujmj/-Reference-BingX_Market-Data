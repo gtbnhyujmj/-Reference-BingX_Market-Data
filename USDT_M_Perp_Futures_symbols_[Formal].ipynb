{
  "nbformat": 4,
  "nbformat_minor": 0,
  "metadata": {
    "colab": {
      "provenance": [],
      "authorship_tag": "ABX9TyN2zKp/cV/w9B2kMeOTXx/W",
      "include_colab_link": true
    },
    "kernelspec": {
      "name": "python3",
      "display_name": "Python 3"
    },
    "language_info": {
      "name": "python"
    }
  },
  "cells": [
    {
      "cell_type": "markdown",
      "metadata": {
        "id": "view-in-github",
        "colab_type": "text"
      },
      "source": [
        "<a href=\"https://colab.research.google.com/github/gtbnhyujmj/-Reference-BingX_Market-Data/blob/main/USDT_M_Perp_Futures_symbols_%5BFormal%5D.ipynb\" target=\"_parent\"><img src=\"https://colab.research.google.com/assets/colab-badge.svg\" alt=\"Open In Colab\"/></a>"
      ]
    },
    {
      "cell_type": "markdown",
      "source": [
        "### 需要資料:"
      ],
      "metadata": {
        "id": "xIbTM20r9n_Y"
      }
    },
    {
      "cell_type": "markdown",
      "source": [
        "symbol\tstring\t否\t交易對，例如：BTC...\n"
      ],
      "metadata": {
        "id": "xmjNeWrJ94t-"
      }
    },
    {
      "cell_type": "markdown",
      "source": [
        "recvWindow\tint64\t否\t發起請求的時間戳，單位：毫秒"
      ],
      "metadata": {
        "id": "VCBjDLaU96qe"
      }
    },
    {
      "cell_type": "markdown",
      "source": [
        "timestamp\tint64\t是\t請求有效時間窗值，單位：毫秒"
      ],
      "metadata": {
        "id": "zZCj51_v-ArP"
      }
    },
    {
      "cell_type": "markdown",
      "source": [
        "### 官方範例程式 2025/06/01"
      ],
      "metadata": {
        "id": "mTrkejXh-JNe"
      }
    },
    {
      "cell_type": "code",
      "execution_count": null,
      "metadata": {
        "id": "8UyPJ6ZB7Hmp"
      },
      "outputs": [],
      "source": [
        "import time\n",
        "import requests\n",
        "import hmac\n",
        "from hashlib import sha256"
      ]
    },
    {
      "cell_type": "code",
      "source": [
        "APIURL = \"https://open-api.bingx.com\"  # API 根網址\n",
        "APIKEY = \"\"  # 使用者的 API 金鑰（需填入）\n",
        "SECRETKEY = \"\"  # 使用者的秘密金鑰（需填入）"
      ],
      "metadata": {
        "id": "A61xXwzE-Sca"
      },
      "execution_count": null,
      "outputs": []
    },
    {
      "cell_type": "code",
      "source": [
        "def demo():\n",
        "    payload = {}  # 請求的載荷，GET 請求通常為空\n",
        "    path = '/openApi/swap/v2/quote/contracts'  # API 路徑\n",
        "    method = \"GET\"  # 請求方法\n",
        "    paramsMap = {}  # URL 參數字典，目前沒有額外參數\n",
        "    paramsStr = parseParam(paramsMap)  # 將參數字典轉成 URL 查詢字串（包含 timestamp）\n",
        "    return send_request(method, path, paramsStr, payload)  # 發送請求並回傳結果"
      ],
      "metadata": {
        "id": "VBX3WV4u9-oG"
      },
      "execution_count": null,
      "outputs": []
    },
    {
      "cell_type": "code",
      "source": [
        "def get_sign(api_secret, payload):\n",
        "    # 使用 HMAC-SHA256 演算法，將 payload (URL 參數字串) 用 SECRETKEY 加密並取得簽名\n",
        "\n",
        "    signature = hmac.new(api_secret.encode(\"utf-8\"), payload.encode(\"utf-8\"), digestmod=sha256).hexdigest()\n",
        "    print(\"sign=\" + signature)  # 輸出簽名以供調試\n",
        "    return signature  # 回傳簽名字串"
      ],
      "metadata": {
        "id": "BUV5jdRM-V4e"
      },
      "execution_count": null,
      "outputs": []
    },
    {
      "cell_type": "code",
      "source": [
        "def send_request(method, path, urlpa, payload):\n",
        "    # 建立完整 URL，並附加簽名參數 signature\n",
        "    url = \"%s%s?%s&signature=%s\" % (APIURL, path, urlpa, get_sign(SECRETKEY, urlpa))\n",
        "    print(url)  # 輸出完整請求 URL，方便除錯\n",
        "    headers = {\n",
        "        'X-BX-APIKEY': APIKEY,  # 將 APIKEY 加入請求標頭\n",
        "    }\n",
        "\n",
        "    # 發送 HTTP 請求，帶入 method、URL、標頭與載荷\n",
        "    response = requests.request(method, url, headers=headers, data=payload)\n",
        "    return response.text  # 回傳 API 回應內容（字串）"
      ],
      "metadata": {
        "id": "x1uv8X7U-XHG"
      },
      "execution_count": null,
      "outputs": []
    },
    {
      "cell_type": "code",
      "source": [
        "def parseParam(paramsMap):\n",
        "    # 對參數鍵做排序，確保簽名一致性\n",
        "    sortedKeys = sorted(paramsMap)\n",
        "\n",
        "    # 將參數字典轉成 URL 查詢字串，如 key1=value1&key2=value2\n",
        "    paramsStr = \"&\".join([\"%s=%s\" % (x, paramsMap[x]) for x in sortedKeys])\n",
        "    if paramsStr != \"\":\n",
        "        # 如果有其他參數，加上 timestamp\n",
        "        return paramsStr+\"&timestamp=\"+str(int(time.time() * 1000))\n",
        "    else:\n",
        "        # 沒有參數則只有 timestamp\n",
        "        return paramsStr+\"timestamp=\"+str(int(time.time() * 1000))"
      ],
      "metadata": {
        "id": "j3KcjWeL-YkG"
      },
      "execution_count": null,
      "outputs": []
    },
    {
      "cell_type": "code",
      "source": [
        "if __name__ == '__main__':\n",
        "    print(\"demo:\", demo())  # 執行範例函式並印出結果"
      ],
      "metadata": {
        "id": "mzMHvXuo-Z02"
      },
      "execution_count": null,
      "outputs": []
    }
  ]
}