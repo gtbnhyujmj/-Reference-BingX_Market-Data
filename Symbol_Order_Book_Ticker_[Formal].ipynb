{
  "nbformat": 4,
  "nbformat_minor": 0,
  "metadata": {
    "colab": {
      "provenance": [],
      "authorship_tag": "ABX9TyPUOMNmnWgtrIMRhgmgP3x1",
      "include_colab_link": true
    },
    "kernelspec": {
      "name": "python3",
      "display_name": "Python 3"
    },
    "language_info": {
      "name": "python"
    }
  },
  "cells": [
    {
      "cell_type": "markdown",
      "metadata": {
        "id": "view-in-github",
        "colab_type": "text"
      },
      "source": [
        "<a href=\"https://colab.research.google.com/github/gtbnhyujmj/-Reference-BingX_Market-Data/blob/main/Symbol_Order_Book_Ticker_%5BFormal%5D.ipynb\" target=\"_parent\"><img src=\"https://colab.research.google.com/assets/colab-badge.svg\" alt=\"Open In Colab\"/></a>"
      ]
    },
    {
      "cell_type": "code",
      "execution_count": null,
      "metadata": {
        "id": "L4Qre99GM4sD"
      },
      "outputs": [],
      "source": [
        "# 交易對訂單薄行情 (Symbol Order Book Ticker)\n",
        "# 取得當前最佳訂單價格"
      ]
    },
    {
      "cell_type": "code",
      "source": [
        "# GET /openApi/swap/v2/quote/bookTicker\n",
        "# 不需要 API 金鑰簽名"
      ],
      "metadata": {
        "id": "KmGP4z0DM9MQ"
      },
      "execution_count": null,
      "outputs": []
    },
    {
      "cell_type": "code",
      "source": [
        "import time\n",
        "import requests\n",
        "import hmac\n",
        "from hashlib import sha256"
      ],
      "metadata": {
        "id": "wmJg_QYKNC_I"
      },
      "execution_count": null,
      "outputs": []
    },
    {
      "cell_type": "code",
      "source": [
        "APIURL = \"https://open-api.bingx.com\"  # API 基本網址\n",
        "APIKEY = \"\"  # 使用者 API 金鑰，需填入有效金鑰\n",
        "SECRETKEY = \"\"  # 使用者秘密金鑰，需填入有效密鑰"
      ],
      "metadata": {
        "id": "er4Zr0v1NEHo"
      },
      "execution_count": null,
      "outputs": []
    },
    {
      "cell_type": "code",
      "source": [
        "def demo():\n",
        "    payload = {}  # GET 請求通常無請求體\n",
        "    path = '/openApi/swap/v2/quote/bookTicker'  # API 路徑：取得交易對訂單薄行情\n",
        "    method = \"GET\"  # HTTP 請求方法\n",
        "\n",
        "    paramsMap = {\n",
        "        \"symbol\": \"BTC-USDT\",  # 交易對，必須包含連字號，如 BTC-USDT\n",
        "        \"timestamp\": \"1702719942130\"  # 請求時間戳，單位：毫秒\n",
        "    }\n",
        "\n",
        "    paramsStr = parseParam(paramsMap)  # 將參數字典轉成 URL 查詢字串，並加上 timestamp（若未提供）\n",
        "    return send_request(method, path, paramsStr, payload)  # 發送請求並回傳結果"
      ],
      "metadata": {
        "id": "6UZakXHuNFeX"
      },
      "execution_count": null,
      "outputs": []
    },
    {
      "cell_type": "code",
      "source": [
        "def get_sign(api_secret, payload):\n",
        "\n",
        "    # 使用 HMAC-SHA256 演算法對參數字串產生簽名\n",
        "    signature = hmac.new(api_secret.encode(\"utf-8\"), payload.encode(\"utf-8\"), digestmod=sha256).hexdigest()\n",
        "    print(\"sign=\" + signature)  # 輸出簽名供調試\n",
        "    return signature  # 回傳簽名"
      ],
      "metadata": {
        "id": "G0MJUwR2NHNf"
      },
      "execution_count": null,
      "outputs": []
    },
    {
      "cell_type": "code",
      "source": [
        "def send_request(method, path, urlpa, payload):\n",
        "\n",
        "    # 組合完整 URL，包含簽名參數\n",
        "    url = \"%s%s?%s&signature=%s\" % (APIURL, path, urlpa, get_sign(SECRETKEY, urlpa))\n",
        "    print(url)  # 輸出完整請求 URL 方便除錯\n",
        "\n",
        "    headers = {\n",
        "        'X-BX-APIKEY': APIKEY,  # HTTP 標頭帶入 API 金鑰\n",
        "    }\n",
        "\n",
        "    # 發送 HTTP 請求，帶入方法、URL、標頭與請求體\n",
        "    response = requests.request(method, url, headers=headers, data=payload)\n",
        "    return response.text  # 回傳 API 回應字串"
      ],
      "metadata": {
        "id": "WGxHwktMNIxY"
      },
      "execution_count": null,
      "outputs": []
    },
    {
      "cell_type": "code",
      "source": [
        "def parseParam(paramsMap):\n",
        "    sortedKeys = sorted(paramsMap)  # 參數鍵排序，確保簽名一致性\n",
        "\n",
        "    # 將參數組成 URL 查詢字串，如 key=value&key2=value2\n",
        "    paramsStr = \"&\".join([\"%s=%s\" % (x, paramsMap[x]) for x in sortedKeys])\n",
        "\n",
        "    if paramsStr != \"\":\n",
        "        # 若有其他參數，加上 timestamp 時間戳（毫秒）\n",
        "        return paramsStr+\"&timestamp=\"+str(int(time.time() * 1000))\n",
        "    else:\n",
        "        # 無其他參數時，只有 timestamp\n",
        "        return paramsStr+\"timestamp=\"+str(int(time.time() * 1000))"
      ],
      "metadata": {
        "id": "kdccSvqWNKG_"
      },
      "execution_count": null,
      "outputs": []
    },
    {
      "cell_type": "code",
      "source": [
        "if __name__ == '__main__':\n",
        "    print(\"demo:\", demo())  # 執行示範函式並印出結果"
      ],
      "metadata": {
        "id": "jUDHw3NfNLXH"
      },
      "execution_count": null,
      "outputs": []
    }
  ]
}