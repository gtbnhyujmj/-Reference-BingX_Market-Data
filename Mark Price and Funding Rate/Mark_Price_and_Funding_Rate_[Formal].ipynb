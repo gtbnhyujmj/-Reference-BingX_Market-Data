{
  "nbformat": 4,
  "nbformat_minor": 0,
  "metadata": {
    "colab": {
      "provenance": [],
      "authorship_tag": "ABX9TyPlaPIJN0LrURquo1MeZNN3",
      "include_colab_link": true
    },
    "kernelspec": {
      "name": "python3",
      "display_name": "Python 3"
    },
    "language_info": {
      "name": "python"
    }
  },
  "cells": [
    {
      "cell_type": "markdown",
      "metadata": {
        "id": "view-in-github",
        "colab_type": "text"
      },
      "source": [
        "<a href=\"https://colab.research.google.com/github/gtbnhyujmj/-Reference-BingX_Market-Data/blob/main/Mark_Price_and_Funding_Rate_%5BFormal%5D.ipynb\" target=\"_parent\"><img src=\"https://colab.research.google.com/assets/colab-badge.svg\" alt=\"Open In Colab\"/></a>"
      ]
    },
    {
      "cell_type": "code",
      "execution_count": null,
      "metadata": {
        "id": "4u0Sen1eExZ6"
      },
      "outputs": [],
      "source": [
        "# 標記價格與資金費率 (Mark Price and Funding Rate)\n",
        "# GET /openApi/swap/v2/quote/premiumIndex\n",
        "# 不需要 API 金鑰簽名"
      ]
    },
    {
      "cell_type": "code",
      "source": [
        "import time\n",
        "import requests\n",
        "import hmac\n",
        "from hashlib import sha256"
      ],
      "metadata": {
        "id": "9wz6mAFZFmx7"
      },
      "execution_count": null,
      "outputs": []
    },
    {
      "cell_type": "code",
      "source": [
        "APIURL = \"https://open-api.bingx.com\"  # API 基本網址\n",
        "APIKEY = \"\"  # 使用者 API 金鑰，需要填入有效金鑰\n",
        "SECRETKEY = \"\"  # 使用者秘密金鑰，需要填入有效密鑰"
      ],
      "metadata": {
        "id": "1alhI2GSFp1z"
      },
      "execution_count": null,
      "outputs": []
    },
    {
      "cell_type": "code",
      "source": [
        "def demo():\n",
        "    payload = {}  # GET 請求無請求體\n",
        "    path = '/openApi/swap/v2/quote/premiumIndex'  # API 路徑：取得標記價格與資金費率\n",
        "    method = \"GET\"  # 請求方法\n",
        "\n",
        "    paramsMap = {\n",
        "        \"symbol\": \"BTC-USDT\"  # 交易對符號，必須包含連字號，如 BTC-USDT\n",
        "    }\n",
        "\n",
        "    paramsStr = parseParam(paramsMap)  # 將參數字典轉為 URL 查詢字串並加上 timestamp\n",
        "    return send_request(method, path, paramsStr, payload)  # 發送請求並回傳結果"
      ],
      "metadata": {
        "id": "284avFPlFruy"
      },
      "execution_count": null,
      "outputs": []
    },
    {
      "cell_type": "code",
      "source": [
        "def get_sign(api_secret, payload):\n",
        "    # 以 HMAC-SHA256 算法，對參數字串產生簽名\n",
        "\n",
        "    signature = hmac.new(api_secret.encode(\"utf-8\"), payload.encode(\"utf-8\"), digestmod=sha256).hexdigest()\n",
        "    print(\"sign=\" + signature)  # 輸出簽名供調試用\n",
        "\n",
        "    return signature  # 回傳簽名字串"
      ],
      "metadata": {
        "id": "mmI3LIxHFt8L"
      },
      "execution_count": null,
      "outputs": []
    },
    {
      "cell_type": "code",
      "source": [
        "def send_request(method, path, urlpa, payload):\n",
        "\n",
        "    # 組合完整 URL，包含簽名參數\n",
        "    url = \"%s%s?%s&signature=%s\" % (APIURL, path, urlpa, get_sign(SECRETKEY, urlpa))\n",
        "    print(url)  # 輸出完整請求 URL 方便除錯\n",
        "\n",
        "    headers = {\n",
        "        'X-BX-APIKEY': APIKEY,  # HTTP 標頭帶入 API 金鑰\n",
        "    }\n",
        "\n",
        "    # 發送 HTTP 請求，包含方法、URL、標頭與載荷\n",
        "    response = requests.request(method, url, headers=headers, data=payload)\n",
        "    return response.text  # 回傳 API 回應的文字內容"
      ],
      "metadata": {
        "id": "66heBQYlFvFT"
      },
      "execution_count": null,
      "outputs": []
    },
    {
      "cell_type": "code",
      "source": [
        "def parseParam(paramsMap):\n",
        "    sortedKeys = sorted(paramsMap)  # 參數鍵排序，確保簽名一致\n",
        "\n",
        "    # 組合成 URL 查詢字串，如 key1=value1&key2=value2\n",
        "    paramsStr = \"&\".join([\"%s=%s\" % (x, paramsMap[x]) for x in sortedKeys])\n",
        "\n",
        "    if paramsStr != \"\":\n",
        "        # 若有參數，加上 timestamp 時間戳（毫秒）\n",
        "        return paramsStr+\"&timestamp=\"+str(int(time.time() * 1000))\n",
        "    else:\n",
        "        # 若無參數，只有 timestamp\n",
        "        return paramsStr+\"timestamp=\"+str(int(time.time() * 1000))"
      ],
      "metadata": {
        "id": "mVzZAdCqFwUr"
      },
      "execution_count": null,
      "outputs": []
    },
    {
      "cell_type": "code",
      "source": [
        "if __name__ == '__main__':\n",
        "    print(\"demo:\", demo())  # 執行範例函式並印出結果"
      ],
      "metadata": {
        "id": "z-1E3blHFxnK"
      },
      "execution_count": null,
      "outputs": []
    }
  ]
}
