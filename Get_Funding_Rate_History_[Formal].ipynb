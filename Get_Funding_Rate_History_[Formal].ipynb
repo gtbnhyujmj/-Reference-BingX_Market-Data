{
  "nbformat": 4,
  "nbformat_minor": 0,
  "metadata": {
    "colab": {
      "provenance": [],
      "authorship_tag": "ABX9TyMN+/qEQaDxaT/1zxyw+ERK",
      "include_colab_link": true
    },
    "kernelspec": {
      "name": "python3",
      "display_name": "Python 3"
    },
    "language_info": {
      "name": "python"
    }
  },
  "cells": [
    {
      "cell_type": "markdown",
      "metadata": {
        "id": "view-in-github",
        "colab_type": "text"
      },
      "source": [
        "<a href=\"https://colab.research.google.com/github/gtbnhyujmj/-Reference-BingX_Market-Data/blob/main/Get_Funding_Rate_History_%5BFormal%5D.ipynb\" target=\"_parent\"><img src=\"https://colab.research.google.com/assets/colab-badge.svg\" alt=\"Open In Colab\"/></a>"
      ]
    },
    {
      "cell_type": "code",
      "execution_count": null,
      "metadata": {
        "id": "vZ6kLKNSGivs"
      },
      "outputs": [],
      "source": [
        "# 取得資金費率歷史紀錄 (Get Funding Rate History)\n",
        "# GET /openApi/swap/v2/quote/fundingRate\n",
        "# 不需要 API 金鑰簽名"
      ]
    },
    {
      "cell_type": "code",
      "source": [
        "# 如果未傳送 startTime 與 endTime，則回傳最新的 limit 筆資料。\n",
        "# 回傳清單依時間由小到大排序。\n",
        "# 如果 startTime 與 endTime 間的資料量大於 limit，則回傳 startTime 起 limit 筆資料。"
      ],
      "metadata": {
        "id": "W47h1ALfGpQr"
      },
      "execution_count": null,
      "outputs": []
    },
    {
      "cell_type": "code",
      "source": [
        "import time\n",
        "import requests\n",
        "import hmac\n",
        "from hashlib import sha256"
      ],
      "metadata": {
        "id": "LSMUdWO3G0dK"
      },
      "execution_count": null,
      "outputs": []
    },
    {
      "cell_type": "code",
      "source": [
        "APIURL = \"https://open-api.bingx.com\"  # API 基本網址\n",
        "APIKEY = \"\"  # 使用者的 API 金鑰，需要填入有效金鑰\n",
        "SECRETKEY = \"\"  # 使用者的秘密金鑰，需要填入有效密鑰"
      ],
      "metadata": {
        "id": "6fSKvYmqG48q"
      },
      "execution_count": null,
      "outputs": []
    },
    {
      "cell_type": "code",
      "source": [
        "def demo():\n",
        "    payload = {}  # GET 請求通常不需請求體\n",
        "    path = '/openApi/swap/v2/quote/fundingRate'  # API 路徑：取得資金費率歷史\n",
        "    method = \"GET\"  # HTTP 請求方法\n",
        "\n",
        "    paramsMap = {\n",
        "        \"symbol\": \"QNT-USDT\",  # 交易對，需包含連字號，例如 QNT-USDT\n",
        "        \"limit\": 2  # 限制回傳資料筆數，這裡設定為 2 筆\n",
        "    }\n",
        "\n",
        "    paramsStr = parseParam(paramsMap)  # 將參數字典轉成 URL 查詢字串並加上 timestamp\n",
        "    return send_request(method, path, paramsStr, payload)  # 發送請求並回傳結果"
      ],
      "metadata": {
        "id": "IooDSXETG6TL"
      },
      "execution_count": null,
      "outputs": []
    },
    {
      "cell_type": "code",
      "source": [
        "def get_sign(api_secret, payload):\n",
        "\n",
        "    # 使用 HMAC-SHA256 演算法產生簽名，payload 是排序後的參數字串\n",
        "    signature = hmac.new(api_secret.encode(\"utf-8\"), payload.encode(\"utf-8\"), digestmod=sha256).hexdigest()\n",
        "    print(\"sign=\" + signature)  # 輸出簽名方便調試\n",
        "    return signature  # 回傳簽名"
      ],
      "metadata": {
        "id": "fbSBdz_sG9sK"
      },
      "execution_count": null,
      "outputs": []
    },
    {
      "cell_type": "code",
      "source": [
        "def send_request(method, path, urlpa, payload):\n",
        "\n",
        "    # 組合完整 URL，包含簽名參數\n",
        "    url = \"%s%s?%s&signature=%s\" % (APIURL, path, urlpa, get_sign(SECRETKEY, urlpa))\n",
        "    print(url)  # 輸出完整請求 URL，方便除錯\n",
        "\n",
        "    headers = {\n",
        "        'X-BX-APIKEY': APIKEY,  # HTTP 標頭帶入 API 金鑰\n",
        "    }\n",
        "\n",
        "    # 發送 HTTP 請求，帶入方法、URL、標頭與請求體\n",
        "    response = requests.request(method, url, headers=headers, data=payload)\n",
        "    return response.text  # 回傳 API 回應內容（字串）"
      ],
      "metadata": {
        "id": "ezH9BY1RG-z6"
      },
      "execution_count": null,
      "outputs": []
    },
    {
      "cell_type": "code",
      "source": [
        "def parseParam(paramsMap):\n",
        "    sortedKeys = sorted(paramsMap)  # 對參數鍵排序以確保簽名一致\n",
        "\n",
        "    # 將參數轉成 URL 查詢字串格式，如 key=value&key2=value2\n",
        "    paramsStr = \"&\".join([\"%s=%s\" % (x, paramsMap[x]) for x in sortedKeys])\n",
        "\n",
        "    if paramsStr != \"\":\n",
        "        # 若有其他參數，加入 timestamp 時間戳（毫秒）\n",
        "        return paramsStr+\"&timestamp=\"+str(int(time.time() * 1000))\n",
        "    else:\n",
        "        # 無其他參數時，只加 timestamp\n",
        "        return paramsStr+\"timestamp=\"+str(int(time.time() * 1000))"
      ],
      "metadata": {
        "id": "TaNNgIcoHAOS"
      },
      "execution_count": null,
      "outputs": []
    },
    {
      "cell_type": "code",
      "source": [
        "if __name__ == '__main__':\n",
        "    print(\"demo:\", demo())  # 執行示範函式並印出結果"
      ],
      "metadata": {
        "id": "bzdSvwPLHBrS"
      },
      "execution_count": null,
      "outputs": []
    }
  ]
}