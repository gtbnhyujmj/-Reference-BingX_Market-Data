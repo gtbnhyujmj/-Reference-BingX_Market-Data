{
  "nbformat": 4,
  "nbformat_minor": 0,
  "metadata": {
    "colab": {
      "provenance": [],
      "authorship_tag": "ABX9TyPzWnCs4u0EkpgR0qhketcs",
      "include_colab_link": true
    },
    "kernelspec": {
      "name": "python3",
      "display_name": "Python 3"
    },
    "language_info": {
      "name": "python"
    }
  },
  "cells": [
    {
      "cell_type": "markdown",
      "metadata": {
        "id": "view-in-github",
        "colab_type": "text"
      },
      "source": [
        "<a href=\"https://colab.research.google.com/github/gtbnhyujmj/-Reference-BingX_Market-Data/blob/main/Recent_Trades_List_%5BFormal%5D.ipynb\" target=\"_parent\"><img src=\"https://colab.research.google.com/assets/colab-badge.svg\" alt=\"Open In Colab\"/></a>"
      ]
    },
    {
      "cell_type": "code",
      "execution_count": null,
      "metadata": {
        "id": "5eFMfzVRDhmG"
      },
      "outputs": [],
      "source": [
        "# 近期成交列表 (Recent Trades List)\n",
        "# GET /openApi/swap/v2/quote/trades\n",
        "# 不需要 API 金鑰簽名"
      ]
    },
    {
      "cell_type": "code",
      "source": [
        "import time\n",
        "import requests\n",
        "import hmac\n",
        "from hashlib import sha256"
      ],
      "metadata": {
        "id": "g4QPOzzsDssM"
      },
      "execution_count": null,
      "outputs": []
    },
    {
      "cell_type": "code",
      "source": [
        "APIURL = \"https://open-api.bingx.com\"  # API 基本網址\n",
        "APIKEY = \"\"  # 使用者的 API 金鑰，需要填入有效金鑰\n",
        "SECRETKEY = \"\"  # 使用者的秘密金鑰，需要填入有效密鑰"
      ],
      "metadata": {
        "id": "kB08V92HDwNT"
      },
      "execution_count": null,
      "outputs": []
    },
    {
      "cell_type": "code",
      "source": [
        "def demo():\n",
        "    payload = {}  # GET 請求的請求體通常為空\n",
        "    path = '/openApi/swap/v2/quote/trades'  # API 路徑：取得近期成交列表\n",
        "    method = \"GET\"  # HTTP 請求方法\n",
        "\n",
        "    paramsMap = {\n",
        "        \"symbol\": \"BTC-USDT\",  # 交易對符號，必須包含連字號，如 BTC-USDT\n",
        "        \"limit\": 10  # 查詢限制，回傳最近 10 筆成交\n",
        "\n",
        "    }\n",
        "\n",
        "    paramsStr = parseParam(paramsMap)  # 將參數字典轉成 URL 查詢字串，並加上 timestamp\n",
        "    return send_request(method, path, paramsStr, payload)  # 發送請求並回傳結果"
      ],
      "metadata": {
        "id": "QGVs-dvwDy6b"
      },
      "execution_count": null,
      "outputs": []
    },
    {
      "cell_type": "code",
      "source": [
        "def get_sign(api_secret, payload):\n",
        "    # 用 HMAC-SHA256 演算法，對參數字串做簽名\n",
        "\n",
        "    signature = hmac.new(api_secret.encode(\"utf-8\"), payload.encode(\"utf-8\"), digestmod=sha256).hexdigest()\n",
        "    print(\"sign=\" + signature)  # 輸出簽名以供調試\n",
        "    return signature  # 回傳簽名字串"
      ],
      "metadata": {
        "id": "Y9CsB2zPD1Tr"
      },
      "execution_count": null,
      "outputs": []
    },
    {
      "cell_type": "code",
      "source": [
        "def send_request(method, path, urlpa, payload):\n",
        "\n",
        "    # 組合完整請求 URL，包含簽名參數\n",
        "    url = \"%s%s?%s&signature=%s\" % (APIURL, path, urlpa, get_sign(SECRETKEY, urlpa))\n",
        "    print(url)  # 輸出完整 URL，方便除錯\n",
        "\n",
        "    headers = {\n",
        "        'X-BX-APIKEY': APIKEY,  # 在 HTTP 標頭帶入 API 金鑰\n",
        "    }\n",
        "\n",
        "    # 發送 HTTP 請求，包含方法、URL、標頭與請求體\n",
        "    response = requests.request(method, url, headers=headers, data=payload)\n",
        "    return response.text  # 回傳 API 回應內容（字串）"
      ],
      "metadata": {
        "id": "IgdudCXPD2ib"
      },
      "execution_count": null,
      "outputs": []
    },
    {
      "cell_type": "code",
      "source": [
        "def parseParam(paramsMap):\n",
        "    sortedKeys = sorted(paramsMap)  # 參數鍵排序，保證簽名一致性\n",
        "\n",
        "    # 將參數組成 URL 查詢字串，例如 key1=value1&key2=value2\n",
        "    paramsStr = \"&\".join([\"%s=%s\" % (x, paramsMap[x]) for x in sortedKeys])\n",
        "\n",
        "    if paramsStr != \"\":\n",
        "        # 若有參數，加入 timestamp 時間戳（毫秒）\n",
        "        return paramsStr+\"&timestamp=\"+str(int(time.time() * 1000))\n",
        "    else:\n",
        "        # 若無參數，只有 timestamp\n",
        "        return paramsStr+\"timestamp=\"+str(int(time.time() * 1000))"
      ],
      "metadata": {
        "id": "OZsHpJMiD4Tk"
      },
      "execution_count": null,
      "outputs": []
    },
    {
      "cell_type": "code",
      "source": [
        "if __name__ == '__main__':\n",
        "    print(\"demo:\", demo())  # 執行示範函式並印出結果"
      ],
      "metadata": {
        "id": "kzYL3aO2D6C7"
      },
      "execution_count": null,
      "outputs": []
    }
  ]
}
