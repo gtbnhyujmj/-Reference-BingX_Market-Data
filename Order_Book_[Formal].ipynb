{
  "nbformat": 4,
  "nbformat_minor": 0,
  "metadata": {
    "colab": {
      "provenance": [],
      "authorship_tag": "ABX9TyOJaFVmwlQD2DQHowPvfcjF",
      "include_colab_link": true
    },
    "kernelspec": {
      "name": "python3",
      "display_name": "Python 3"
    },
    "language_info": {
      "name": "python"
    }
  },
  "cells": [
    {
      "cell_type": "markdown",
      "metadata": {
        "id": "view-in-github",
        "colab_type": "text"
      },
      "source": [
        "<a href=\"https://colab.research.google.com/github/gtbnhyujmj/-Reference-BingX_Market-Data/blob/main/Order_Book_%5BFormal%5D.ipynb\" target=\"_parent\"><img src=\"https://colab.research.google.com/assets/colab-badge.svg\" alt=\"Open In Colab\"/></a>"
      ]
    },
    {
      "cell_type": "code",
      "execution_count": null,
      "metadata": {
        "id": "9o7EvRzAA2X8"
      },
      "outputs": [],
      "source": [
        "# GET /openApi/swap/v2/quote/depth\n",
        "# 不需要 API 金鑰簽名"
      ]
    },
    {
      "cell_type": "code",
      "source": [
        "import time\n",
        "import requests\n",
        "import hmac\n",
        "from hashlib import sha256"
      ],
      "metadata": {
        "id": "KH18kwA7BSLO"
      },
      "execution_count": null,
      "outputs": []
    },
    {
      "cell_type": "code",
      "source": [
        "APIURL = \"https://open-api.bingx.com\"  # API 基礎網址\n",
        "APIKEY = \"\"  # API 金鑰，需填入使用者的有效金鑰\n",
        "SECRETKEY = \"\"  # 秘密金鑰，需填入使用者的密鑰"
      ],
      "metadata": {
        "id": "kMd6yP5kBTe8"
      },
      "execution_count": null,
      "outputs": []
    },
    {
      "cell_type": "code",
      "source": [
        "def demo():\n",
        "    payload = {}  # GET 請求通常無額外請求體\n",
        "    path = '/openApi/swap/v2/quote/depth'  # API 路徑：獲取訂單簿深度\n",
        "    method = \"GET\"  # HTTP 請求方法\n",
        "\n",
        "\n",
        "    paramsMap = {\n",
        "        \"symbol\": \"SHIB-USDT\",  # 交易對，範例為 SHIB 對 USDT\n",
        "        \"limit\": \"5\"  # 限制返回的訂單數量，這裡取 5 條\n",
        "    }\n",
        "\n",
        "    paramsStr = parseParam(paramsMap)  # 將參數字典轉換成 URL 查詢字串並加入時間戳\n",
        "    return send_request(method, path, paramsStr, payload)  # 發送 API 請求並回傳結果"
      ],
      "metadata": {
        "id": "DJt4Tx-WBVTN"
      },
      "execution_count": null,
      "outputs": []
    },
    {
      "cell_type": "code",
      "source": [
        "def get_sign(api_secret, payload):\n",
        "    # 用 HMAC-SHA256 生成簽名，payload 是已排序並組合成字串的參數\n",
        "\n",
        "    signature = hmac.new(api_secret.encode(\"utf-8\"), payload.encode(\"utf-8\"), digestmod=sha256).hexdigest()\n",
        "    print(\"sign=\" + signature)  # 印出簽名供除錯用\n",
        "    return signature  # 回傳簽名字串"
      ],
      "metadata": {
        "id": "HS9ujwUEBXKN"
      },
      "execution_count": null,
      "outputs": []
    },
    {
      "cell_type": "code",
      "source": [
        "def send_request(method, path, urlpa, payload):\n",
        "    # 組合完整請求 URL，包含簽名參數\n",
        "    url = \"%s%s?%s&signature=%s\" % (APIURL, path, urlpa, get_sign(SECRETKEY, urlpa))\n",
        "    print(url)  # 印出完整 URL 方便除錯\n",
        "\n",
        "    headers = {\n",
        "        'X-BX-APIKEY': APIKEY,  # HTTP 標頭帶入 API 金鑰\n",
        "    }\n",
        "\n",
        "    # 發送 HTTP 請求，method、URL、標頭與請求體\n",
        "    response = requests.request(method, url, headers=headers, data=payload)\n",
        "    return response.text  # 回傳 API 回應內容（文字）"
      ],
      "metadata": {
        "id": "4e3H6gw0Baa8"
      },
      "execution_count": null,
      "outputs": []
    },
    {
      "cell_type": "code",
      "source": [
        "def parseParam(paramsMap):\n",
        "    sortedKeys = sorted(paramsMap)  # 參數鍵排序，確保簽名一致\n",
        "\n",
        "    # 參數轉成 URL 查詢字串 key=value&key2=value2\n",
        "    paramsStr = \"&\".join([\"%s=%s\" % (x, paramsMap[x]) for x in sortedKeys])\n",
        "\n",
        "    if paramsStr != \"\":\n",
        "        # 如果有其他參數，加上 timestamp 時間戳（毫秒）\n",
        "        return paramsStr+\"&timestamp=\"+str(int(time.time() * 1000))\n",
        "    else:\n",
        "        # 若無參數，只有 timestamp\n",
        "        return paramsStr+\"timestamp=\"+str(int(time.time() * 1000))"
      ],
      "metadata": {
        "id": "M8c9bhYPBb49"
      },
      "execution_count": null,
      "outputs": []
    },
    {
      "cell_type": "code",
      "source": [
        "if __name__ == '__main__':\n",
        "    print(\"demo:\", demo())  # 執行範例並印出結果"
      ],
      "metadata": {
        "id": "C-A1fTj-BdI9"
      },
      "execution_count": null,
      "outputs": []
    }
  ]
}